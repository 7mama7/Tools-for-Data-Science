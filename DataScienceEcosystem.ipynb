{
 "cells": [
  {
   "cell_type": "markdown",
   "id": "9b2edfa8-ce0a-4d89-bfea-cb582fb79149",
   "metadata": {},
   "source": [
    "# Data Science Tools and Ecosystem"
   ]
  },
  {
   "cell_type": "markdown",
   "id": "7f293d2f-c5d1-40fb-9fbf-c323409e33f3",
   "metadata": {},
   "source": [
    "In this notebook Data Science tools and Ecosystem are summarized"
   ]
  },
  {
   "cell_type": "markdown",
   "id": "dc995fc8-5a05-421a-b727-5bdab8b157a5",
   "metadata": {},
   "source": [
    "**Objectives:**\n",
    "\n",
    "some of the key takeaways from the course are:\n",
    "- List popular languages for Data Scientists\n",
    "- List commonly used libraries in Data Science\n",
    "- Identify Open-source working environments \n",
    "- Learn How to use JupyterLab"
   ]
  },
  {
   "cell_type": "markdown",
   "id": "543e70b4-802b-478c-8552-f3259b68c874",
   "metadata": {},
   "source": [
    "Some of the popular languages that Data Scientists use are:\n",
    "1. Python\n",
    "2. R\n",
    "3. Java\n",
    "4. C\n",
    "5. C++\n",
    "6. Julia\n",
    "7. Java Script"
   ]
  },
  {
   "cell_type": "markdown",
   "id": "2b4e3d1b-d958-4d14-ac90-213429947c76",
   "metadata": {},
   "source": [
    "Some of most commonly used libraries by data scientists include:\n",
    "1. Pandas\n",
    "2. Matplotlip\n",
    "3. NumPy\n",
    "4. Scikit-Learn\n",
    "5. TensorFlow\n",
    "6. PyTorch"
   ]
  },
  {
   "cell_type": "markdown",
   "id": "893bba34-f511-4e4f-8bcc-7592ed748014",
   "metadata": {},
   "source": [
    "| Data Science Tools |\n",
    "| ------ |\n",
    "| JupyterLab |\n",
    "| VS Code |\n",
    "| RStudio |"
   ]
  },
  {
   "cell_type": "markdown",
   "id": "c98189da-bedf-4ed6-b63b-db40ea96c962",
   "metadata": {
    "tags": []
   },
   "source": [
    "### Below are a few examples of evaluating arithmetic expressions in Python:"
   ]
  },
  {
   "cell_type": "code",
   "execution_count": 1,
   "id": "ed78a6a6-65b9-403b-bea1-47662f56087f",
   "metadata": {
    "tags": []
   },
   "outputs": [
    {
     "data": {
      "text/plain": [
       "17"
      ]
     },
     "execution_count": 1,
     "metadata": {},
     "output_type": "execute_result"
    }
   ],
   "source": [
    "#  This a simple arithmetic expression to mutiply then add integers\n",
    "(3*4)+5"
   ]
  },
  {
   "cell_type": "code",
   "execution_count": 6,
   "id": "11a11bcc-33f3-44fa-b53e-faf9d6379f51",
   "metadata": {
    "tags": []
   },
   "outputs": [
    {
     "name": "stdout",
     "output_type": "stream",
     "text": [
      "3.3333333333333335\n"
     ]
    }
   ],
   "source": [
    "# This will convert 200 minutes to hours by diving by 60\n",
    "x = 200\n",
    "hours = x/60\n",
    "print(hours)"
   ]
  },
  {
   "cell_type": "markdown",
   "id": "32cb2c83-5ce5-44a7-80aa-b5a1a9e80ae2",
   "metadata": {},
   "source": [
    "## Author\n",
    "Abdulrahman Ali"
   ]
 "metadata": {
  "kernelspec": {
   "display_name": "Python",
   "language": "python",
   "name": "conda-env-python-py"
  },
  "language_info": {
   "codemirror_mode": {
    "name": "ipython",
    "version": 3
   },
   "file_extension": ".py",
   "mimetype": "text/x-python",
   "name": "python",
   "nbconvert_exporter": "python",
   "pygments_lexer": "ipython3",
   "version": "3.7.12"
  }
 },
 "nbformat": 4,
 "nbformat_minor": 5
}
